{
 "cells": [
  {
   "cell_type": "code",
   "execution_count": 1,
   "id": "a258350b-ae9f-4fe2-954d-ec4521d5bf1f",
   "metadata": {},
   "outputs": [],
   "source": [
    "import numpy as np\n",
    "import pandas as pd "
   ]
  },
  {
   "cell_type": "code",
   "execution_count": 2,
   "id": "0f0b7eb3-16fa-4fd1-b778-a5fc5175584e",
   "metadata": {},
   "outputs": [],
   "source": [
    "dict = {\n",
    "    \"name\":['Ali','Usman','Munir','Ahmed'],\n",
    "    \"marks\":[89,65,45,22],\n",
    "    \"city\":['Lahore','Multan','Islamabad','Karachi']\n",
    "}"
   ]
  },
  {
   "cell_type": "code",
   "execution_count": 3,
   "id": "6727c3c6-3950-46d6-9911-53e8d6652c38",
   "metadata": {},
   "outputs": [
    {
     "ename": "AttributeError",
     "evalue": "module 'pandas' has no attribute 'Dataframe'",
     "output_type": "error",
     "traceback": [
      "\u001b[31m---------------------------------------------------------------------------\u001b[39m",
      "\u001b[31mAttributeError\u001b[39m                            Traceback (most recent call last)",
      "\u001b[36mCell\u001b[39m\u001b[36m \u001b[39m\u001b[32mIn[3]\u001b[39m\u001b[32m, line 1\u001b[39m\n\u001b[32m----> \u001b[39m\u001b[32m1\u001b[39m df=\u001b[43mpd\u001b[49m\u001b[43m.\u001b[49m\u001b[43mDataframe\u001b[49m(dict1)\n",
      "\u001b[31mAttributeError\u001b[39m: module 'pandas' has no attribute 'Dataframe'"
     ]
    }
   ],
   "source": [
    "df=pd.Dataframe(dict1)"
   ]
  },
  {
   "cell_type": "code",
   "execution_count": null,
   "id": "101d9ab5-4df0-44bf-afbc-3aff0758f69f",
   "metadata": {},
   "outputs": [],
   "source": [
    "df=pd.DataFrame"
   ]
  },
  {
   "cell_type": "code",
   "execution_count": null,
   "id": "5efe9c9e-661a-4e8f-94c8-06dfc685d826",
   "metadata": {},
   "outputs": [],
   "source": [
    "df=pd.DataFrame(dict1)"
   ]
  },
  {
   "cell_type": "code",
   "execution_count": null,
   "id": "31780d6f-2b69-4d45-b9de-9c07c15bb824",
   "metadata": {},
   "outputs": [],
   "source": [
    " df=pd.DataFrame(dict)"
   ]
  },
  {
   "cell_type": "code",
   "execution_count": null,
   "id": "8f23f00c-6186-4175-9750-ac5905a08301",
   "metadata": {},
   "outputs": [],
   "source": [
    "df"
   ]
  },
  {
   "cell_type": "code",
   "execution_count": null,
   "id": "d5b22c68-dab9-402d-a727-0d79185a1de0",
   "metadata": {},
   "outputs": [],
   "source": [
    "df.to_csv('Marksheet.csv')"
   ]
  },
  {
   "cell_type": "code",
   "execution_count": null,
   "id": "d67e8f42-ac5d-449c-9967-225694aefc41",
   "metadata": {},
   "outputs": [],
   "source": [
    "df.to_csv('Marksheet_Index_False.csv', index=False)"
   ]
  },
  {
   "cell_type": "code",
   "execution_count": null,
   "id": "c8aeb5c1-35ba-47f4-a2a7-967c6ee71f23",
   "metadata": {},
   "outputs": [],
   "source": [
    "df.head(2)"
   ]
  },
  {
   "cell_type": "code",
   "execution_count": null,
   "id": "f297b4d5-2e65-4d95-9e67-3d0973e96169",
   "metadata": {},
   "outputs": [],
   "source": [
    "df.tail(2)"
   ]
  },
  {
   "cell_type": "code",
   "execution_count": null,
   "id": "2db8d4a2-5bc5-4a3d-95ef-d63a9834922c",
   "metadata": {},
   "outputs": [],
   "source": [
    "df.describe()"
   ]
  },
  {
   "cell_type": "code",
   "execution_count": null,
   "id": "2c0671a0-89e1-4fb6-afea-f615dcc4600c",
   "metadata": {},
   "outputs": [],
   "source": [
    "df.info()"
   ]
  },
  {
   "cell_type": "code",
   "execution_count": null,
   "id": "3fa03622-fbb5-4589-a99f-e3c1ed1628bd",
   "metadata": {},
   "outputs": [],
   "source": [
    "ticket=pd.read_csv('Ticket.csv')"
   ]
  },
  {
   "cell_type": "code",
   "execution_count": null,
   "id": "017c7901-85f0-4243-aec1-0007d36d496c",
   "metadata": {},
   "outputs": [],
   "source": [
    "ticket"
   ]
  },
  {
   "cell_type": "code",
   "execution_count": null,
   "id": "b6539ecf-46e9-46ae-b6c3-20fba2eb9652",
   "metadata": {},
   "outputs": [],
   "source": [
    "ticket['Speed']"
   ]
  },
  {
   "cell_type": "code",
   "execution_count": null,
   "id": "d45a5af7-aa9d-424d-9a8e-6c8f91b77ea0",
   "metadata": {},
   "outputs": [],
   "source": [
    "ticket"
   ]
  },
  {
   "cell_type": "code",
   "execution_count": null,
   "id": "22d7cce8-d6c5-49a0-9320-136d0da295ad",
   "metadata": {},
   "outputs": [],
   "source": [
    "passeger=pd.read_csv('Passenger.csv')"
   ]
  },
  {
   "cell_type": "code",
   "execution_count": null,
   "id": "2ca9f88f-b7f0-4ccf-bc0e-06870db46910",
   "metadata": {},
   "outputs": [],
   "source": [
    "import pandas as pd"
   ]
  },
  {
   "cell_type": "code",
   "execution_count": null,
   "id": "391e088e-79f2-4a55-8641-cb6448fc50f2",
   "metadata": {},
   "outputs": [],
   "source": [
    "import numpy as np"
   ]
  },
  {
   "cell_type": "code",
   "execution_count": null,
   "id": "148bb485-9d46-4597-90a5-aab1b21d9cf6",
   "metadata": {},
   "outputs": [],
   "source": [
    "passenger=pd.read_csv('Passenger.csv')"
   ]
  },
  {
   "cell_type": "code",
   "execution_count": null,
   "id": "02e8dc54-d8cf-45e5-81be-b4fbf2a47238",
   "metadata": {},
   "outputs": [],
   "source": [
    "passenger"
   ]
  },
  {
   "cell_type": "code",
   "execution_count": null,
   "id": "510a5d1c-2e5c-4bda-867e-8abf5f20e05c",
   "metadata": {},
   "outputs": [],
   "source": [
    "passenger['Speed'][0]=578"
   ]
  },
  {
   "cell_type": "code",
   "execution_count": 4,
   "id": "1c3d74b0-60b6-4aca-83ef-a221a53e65f2",
   "metadata": {},
   "outputs": [
    {
     "ename": "NameError",
     "evalue": "name 'passenger' is not defined",
     "output_type": "error",
     "traceback": [
      "\u001b[31m---------------------------------------------------------------------------\u001b[39m",
      "\u001b[31mNameError\u001b[39m                                 Traceback (most recent call last)",
      "\u001b[36mCell\u001b[39m\u001b[36m \u001b[39m\u001b[32mIn[4]\u001b[39m\u001b[32m, line 1\u001b[39m\n\u001b[32m----> \u001b[39m\u001b[32m1\u001b[39m \u001b[43mpassenger\u001b[49m\n",
      "\u001b[31mNameError\u001b[39m: name 'passenger' is not defined"
     ]
    }
   ],
   "source": [
    "passenger"
   ]
  },
  {
   "cell_type": "code",
   "execution_count": 5,
   "id": "1db35a59-9ba7-48cd-b918-1810721de107",
   "metadata": {},
   "outputs": [
    {
     "ename": "NameError",
     "evalue": "name 'passenger' is not defined",
     "output_type": "error",
     "traceback": [
      "\u001b[31m---------------------------------------------------------------------------\u001b[39m",
      "\u001b[31mNameError\u001b[39m                                 Traceback (most recent call last)",
      "\u001b[36mCell\u001b[39m\u001b[36m \u001b[39m\u001b[32mIn[5]\u001b[39m\u001b[32m, line 1\u001b[39m\n\u001b[32m----> \u001b[39m\u001b[32m1\u001b[39m \u001b[43mpassenger\u001b[49m.to_csv(\u001b[33m'\u001b[39m\u001b[33mPassenger.csv\u001b[39m\u001b[33m'\u001b[39m)\n",
      "\u001b[31mNameError\u001b[39m: name 'passenger' is not defined"
     ]
    }
   ],
   "source": [
    "passenger.to_csv('Passenger.csv')"
   ]
  },
  {
   "cell_type": "code",
   "execution_count": null,
   "id": "66582ed0-9aaa-40c9-9057-f177cd94b56b",
   "metadata": {},
   "outputs": [],
   "source": [
    "passenger.index=[1,2,3,4]"
   ]
  },
  {
   "cell_type": "code",
   "execution_count": null,
   "id": "82f9db35-12eb-4f21-9689-01efde745b1e",
   "metadata": {},
   "outputs": [],
   "source": [
    "passenger"
   ]
  },
  {
   "cell_type": "code",
   "execution_count": 6,
   "id": "ce1a751e-c651-4459-8776-e240d0bbb285",
   "metadata": {},
   "outputs": [],
   "source": [
    "import pandas as pd\n",
    "import numpy as np"
   ]
  },
  {
   "cell_type": "code",
   "execution_count": null,
   "id": "e5e51870-bb53-42ff-924e-30ccc9170773",
   "metadata": {},
   "outputs": [],
   "source": []
  }
 ],
 "metadata": {
  "kernelspec": {
   "display_name": "Python 3 (ipykernel)",
   "language": "python",
   "name": "python3"
  },
  "language_info": {
   "codemirror_mode": {
    "name": "ipython",
    "version": 3
   },
   "file_extension": ".py",
   "mimetype": "text/x-python",
   "name": "python",
   "nbconvert_exporter": "python",
   "pygments_lexer": "ipython3",
   "version": "3.13.0"
  }
 },
 "nbformat": 4,
 "nbformat_minor": 5
}
