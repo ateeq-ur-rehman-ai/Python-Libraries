{
 "cells": [
  {
   "cell_type": "markdown",
   "id": "946a0ff1-f2dc-4f3e-9a9c-cffd5b33f001",
   "metadata": {},
   "source": [
    "# Matrix Operations "
   ]
  },
  {
   "cell_type": "code",
   "execution_count": 1,
   "id": "f0968507-06dc-445b-8a3e-b35064ddbb5d",
   "metadata": {},
   "outputs": [],
   "source": [
    "import numpy as np"
   ]
  },
  {
   "cell_type": "code",
   "execution_count": 2,
   "id": "c79dd9df-853c-49ea-8213-451b79c32f60",
   "metadata": {},
   "outputs": [],
   "source": [
    "arr1=np.array([[1, 6, 2],\n",
    "       [4, 24, 9],\n",
    "       [6, 3, 78]])"
   ]
  },
  {
   "cell_type": "code",
   "execution_count": 3,
   "id": "1fe081f8-e8d4-4f99-93fd-62331471e7fb",
   "metadata": {},
   "outputs": [
    {
     "data": {
      "text/plain": [
       "array([[ 1,  6,  2],\n",
       "       [ 4, 24,  9],\n",
       "       [ 6,  3, 78]])"
      ]
     },
     "execution_count": 3,
     "metadata": {},
     "output_type": "execute_result"
    }
   ],
   "source": [
    "arr1"
   ]
  },
  {
   "cell_type": "code",
   "execution_count": 4,
   "id": "202cb212-4552-4247-826d-7162b4c97984",
   "metadata": {},
   "outputs": [],
   "source": [
    "arr2=np.array([[1, 4, 3],\n",
    "       [4, 6, 3],\n",
    "       [6, 3, 8]])"
   ]
  },
  {
   "cell_type": "code",
   "execution_count": 5,
   "id": "3f560a66-eaba-4360-a325-5e6fc3433e5c",
   "metadata": {},
   "outputs": [
    {
     "data": {
      "text/plain": [
       "array([[ 2, 10,  5],\n",
       "       [ 8, 30, 12],\n",
       "       [12,  6, 86]])"
      ]
     },
     "execution_count": 5,
     "metadata": {},
     "output_type": "execute_result"
    }
   ],
   "source": [
    "arr1+arr2"
   ]
  },
  {
   "cell_type": "code",
   "execution_count": 6,
   "id": "85433660-e300-4398-ba14-87790b09c496",
   "metadata": {},
   "outputs": [
    {
     "data": {
      "text/plain": [
       "array([[  1,  24,   6],\n",
       "       [ 16, 144,  27],\n",
       "       [ 36,   9, 624]])"
      ]
     },
     "execution_count": 6,
     "metadata": {},
     "output_type": "execute_result"
    }
   ],
   "source": [
    "arr1*arr2"
   ]
  },
  {
   "cell_type": "code",
   "execution_count": 7,
   "id": "90dc7925-1563-4bea-b1e4-2113676dbcd0",
   "metadata": {},
   "outputs": [
    {
     "data": {
      "text/plain": [
       "array([[ 0,  2, -1],\n",
       "       [ 0, 18,  6],\n",
       "       [ 0,  0, 70]])"
      ]
     },
     "execution_count": 7,
     "metadata": {},
     "output_type": "execute_result"
    }
   ],
   "source": [
    "arr1-arr2"
   ]
  },
  {
   "cell_type": "code",
   "execution_count": 8,
   "id": "1a768b93-7068-445b-b5c2-70558ca61638",
   "metadata": {},
   "outputs": [
    {
     "data": {
      "text/plain": [
       "array([[1.        , 2.44948974, 1.41421356],\n",
       "       [2.        , 4.89897949, 3.        ],\n",
       "       [2.44948974, 1.73205081, 8.83176087]])"
      ]
     },
     "execution_count": 8,
     "metadata": {},
     "output_type": "execute_result"
    }
   ],
   "source": [
    "np.sqrt(arr1)"
   ]
  },
  {
   "cell_type": "code",
   "execution_count": 9,
   "id": "42b00a28-9301-41a4-90fd-ec75feecfaa0",
   "metadata": {},
   "outputs": [
    {
     "data": {
      "text/plain": [
       "np.int64(133)"
      ]
     },
     "execution_count": 9,
     "metadata": {},
     "output_type": "execute_result"
    }
   ],
   "source": [
    "arr1.sum()"
   ]
  },
  {
   "cell_type": "code",
   "execution_count": 10,
   "id": "b10cdb58-668f-4353-bfde-fa1000d78a60",
   "metadata": {},
   "outputs": [
    {
     "data": {
      "text/plain": [
       "np.int64(78)"
      ]
     },
     "execution_count": 10,
     "metadata": {},
     "output_type": "execute_result"
    }
   ],
   "source": [
    "arr1.max()"
   ]
  },
  {
   "cell_type": "code",
   "execution_count": 11,
   "id": "9872ac96-ba32-45f9-a8ef-998bdf2faac2",
   "metadata": {},
   "outputs": [
    {
     "data": {
      "text/plain": [
       "np.int64(1)"
      ]
     },
     "execution_count": 11,
     "metadata": {},
     "output_type": "execute_result"
    }
   ],
   "source": [
    "arr1.min()"
   ]
  },
  {
   "cell_type": "code",
   "execution_count": 12,
   "id": "0002153a-efb2-465d-96c1-0f11362da603",
   "metadata": {},
   "outputs": [
    {
     "data": {
      "text/plain": [
       "array([[ 1,  6,  2],\n",
       "       [ 4, 24,  9],\n",
       "       [ 6,  3, 78]])"
      ]
     },
     "execution_count": 12,
     "metadata": {},
     "output_type": "execute_result"
    }
   ],
   "source": [
    "arr1"
   ]
  },
  {
   "cell_type": "code",
   "execution_count": 13,
   "id": "b1632b77-f8b0-4761-b0de-a47fa2f24dab",
   "metadata": {},
   "outputs": [
    {
     "data": {
      "text/plain": [
       "(array([1, 1, 2]), array([1, 2, 2]))"
      ]
     },
     "execution_count": 13,
     "metadata": {},
     "output_type": "execute_result"
    }
   ],
   "source": [
    "np.where(arr1>6)"
   ]
  },
  {
   "cell_type": "code",
   "execution_count": 14,
   "id": "d5c89cb7-0538-4b10-bce0-f6751766a45d",
   "metadata": {},
   "outputs": [
    {
     "data": {
      "text/plain": [
       "dtype('int64')"
      ]
     },
     "execution_count": 14,
     "metadata": {},
     "output_type": "execute_result"
    }
   ],
   "source": [
    "arr1.dtype"
   ]
  },
  {
   "cell_type": "code",
   "execution_count": 15,
   "id": "07a9f53e-891a-4e6b-9f40-d5bdddaca7aa",
   "metadata": {},
   "outputs": [
    {
     "data": {
      "text/plain": [
       "tuple"
      ]
     },
     "execution_count": 15,
     "metadata": {},
     "output_type": "execute_result"
    }
   ],
   "source": [
    "type(np.where(arr1>6))"
   ]
  },
  {
   "cell_type": "code",
   "execution_count": 16,
   "id": "f3795b87-f8fc-477f-bb4d-e1198b38a376",
   "metadata": {},
   "outputs": [
    {
     "data": {
      "text/plain": [
       "9"
      ]
     },
     "execution_count": 16,
     "metadata": {},
     "output_type": "execute_result"
    }
   ],
   "source": [
    "np.count_nonzero(arr1)"
   ]
  },
  {
   "cell_type": "code",
   "execution_count": 17,
   "id": "35a4dbe3-70a7-4da0-aeb4-124ff4101083",
   "metadata": {},
   "outputs": [],
   "source": [
    "import sys"
   ]
  },
  {
   "cell_type": "code",
   "execution_count": 18,
   "id": "01fc666b-58cd-4fef-b1c8-076bc95174d7",
   "metadata": {},
   "outputs": [],
   "source": [
    "py_arr=[23,46,78,12]"
   ]
  },
  {
   "cell_type": "code",
   "execution_count": 19,
   "id": "c2eba1f8-65ec-4f57-b9c8-67d7e551ac78",
   "metadata": {},
   "outputs": [],
   "source": [
    "np_arr = np.array(py_arr)"
   ]
  },
  {
   "cell_type": "code",
   "execution_count": 20,
   "id": "d5950539-d354-4d90-9260-2600f5e4640c",
   "metadata": {},
   "outputs": [
    {
     "data": {
      "text/plain": [
       "112"
      ]
     },
     "execution_count": 20,
     "metadata": {},
     "output_type": "execute_result"
    }
   ],
   "source": [
    "sys.getsizeof(1)*len(py_arr)"
   ]
  },
  {
   "cell_type": "code",
   "execution_count": 21,
   "id": "133e8099-9946-4b2e-93b4-459b1dccd858",
   "metadata": {},
   "outputs": [
    {
     "data": {
      "text/plain": [
       "32"
      ]
     },
     "execution_count": 21,
     "metadata": {},
     "output_type": "execute_result"
    }
   ],
   "source": [
    "np_arr.itemsize*np_arr.size"
   ]
  },
  {
   "cell_type": "code",
   "execution_count": null,
   "id": "df2143e1-6a9c-4016-b676-3ab9799861e9",
   "metadata": {},
   "outputs": [],
   "source": [
    "np.to"
   ]
  }
 ],
 "metadata": {
  "kernelspec": {
   "display_name": "Python 3 (ipykernel)",
   "language": "python",
   "name": "python3"
  },
  "language_info": {
   "codemirror_mode": {
    "name": "ipython",
    "version": 3
   },
   "file_extension": ".py",
   "mimetype": "text/x-python",
   "name": "python",
   "nbconvert_exporter": "python",
   "pygments_lexer": "ipython3",
   "version": "3.13.0"
  }
 },
 "nbformat": 4,
 "nbformat_minor": 5
}
